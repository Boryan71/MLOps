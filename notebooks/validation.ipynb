{
 "cells": [
  {
   "cell_type": "code",
   "execution_count": 6,
   "id": "8de4d803-ad17-4233-84d4-1afaecb82d26",
   "metadata": {},
   "outputs": [],
   "source": [
    "import pandas\n",
    "import great_expectations as gx\n",
    "from great_expectations import expectations as gxe"
   ]
  },
  {
   "cell_type": "code",
   "execution_count": 20,
   "id": "193dfbdf-7f6f-46a7-b6e5-6c302414b4b7",
   "metadata": {},
   "outputs": [],
   "source": [
    "# Создаем контекст\n",
    "context = gx.get_context()"
   ]
  },
  {
   "cell_type": "code",
   "execution_count": 24,
   "id": "8c2cabd3-254a-4ecd-ae5c-299829679509",
   "metadata": {},
   "outputs": [],
   "source": [
    "# Загружаем датасет\n",
    "df = pandas.read_csv(\"./../data/raw/UCI_Credit_Card.csv\")"
   ]
  },
  {
   "cell_type": "code",
   "execution_count": 25,
   "id": "c24d609a-8bdd-4eb4-a9b9-66124e3e0c32",
   "metadata": {},
   "outputs": [],
   "source": [
    "# Создаем датасурс на основе датасета\n",
    "data_source_name = \"df\"\n",
    "data_source = context.data_sources.add_pandas(name=data_source_name)"
   ]
  },
  {
   "cell_type": "code",
   "execution_count": 27,
   "id": "ba8c8307-53aa-4a85-9667-2aeb5101d148",
   "metadata": {},
   "outputs": [],
   "source": [
    "# Создаем дата_ассет для нашего датасурса\n",
    "data_asset_name = \"df_asset\"\n",
    "data_asset = data_source.add_dataframe_asset(name=data_asset_name)"
   ]
  },
  {
   "cell_type": "code",
   "execution_count": 30,
   "id": "caceadca-910f-4150-9006-f404e25cf4cb",
   "metadata": {},
   "outputs": [],
   "source": [
    "# Создаем батч для дата_ассета\n",
    "batch_definition_name = \"df_batch_definition\"\n",
    "batch_definition = data_asset.add_batch_definition_whole_dataframe(\n",
    "    batch_definition_name\n",
    ")"
   ]
  },
  {
   "cell_type": "code",
   "execution_count": 32,
   "id": "2afa4c8d-649b-48c1-b0e4-adbacaa9d243",
   "metadata": {},
   "outputs": [],
   "source": [
    "# Задаем параметры батча\n",
    "batch_parameters = {\"dataframe\": df}"
   ]
  },
  {
   "cell_type": "code",
   "execution_count": null,
   "id": "b5dd728a-9381-4dc3-b5a0-440ba51a0ab1",
   "metadata": {},
   "outputs": [],
   "source": [
    "# Получаем датафрейм как батч\n",
    "batch = batch_definition.get_batch(batch_parameters=batch_parameters)"
   ]
  },
  {
   "cell_type": "code",
   "execution_count": 33,
   "id": "ccfec13c-301d-4899-84f9-a8a113d82bca",
   "metadata": {},
   "outputs": [],
   "source": [
    "# Создаем правило для проверки\n",
    "expectation = gxe.ExpectColumnValuesToBeBetween(\n",
    "    column=\"AGE\", max_value=30, min_value=20\n",
    ")"
   ]
  },
  {
   "cell_type": "code",
   "execution_count": 38,
   "id": "87e8ca31-602e-4ee4-be00-fb756ca0f032",
   "metadata": {},
   "outputs": [],
   "source": [
    "# Создаем сьют для проверок\n",
    "suite_name = \"df_expectation_suite\"\n",
    "suite = gx.ExpectationSuite(name=suite_name)"
   ]
  },
  {
   "cell_type": "code",
   "execution_count": null,
   "id": "417dd7c6-3ced-455b-b88c-8ccff46d7575",
   "metadata": {},
   "outputs": [],
   "source": [
    "# "
   ]
  },
  {
   "cell_type": "code",
   "execution_count": 37,
   "id": "a1c7a0c3-1b88-43df-8001-a4f84c8f34f0",
   "metadata": {},
   "outputs": [],
   "source": [
    "# Валидируем\n",
    "# validation_results = batch.validate(expectation)\n",
    "# print(validation_results)"
   ]
  },
  {
   "cell_type": "code",
   "execution_count": null,
   "id": "785e51bc-3c8f-4047-84d9-268dcbe9273c",
   "metadata": {},
   "outputs": [],
   "source": []
  },
  {
   "cell_type": "code",
   "execution_count": null,
   "id": "f78868d7-1aba-4251-8956-cf85e2f9dc65",
   "metadata": {},
   "outputs": [],
   "source": []
  },
  {
   "cell_type": "code",
   "execution_count": 21,
   "id": "298c9549-00c9-47ff-8373-83db6429d5e4",
   "metadata": {},
   "outputs": [],
   "source": [
    "source_folder = \"./../data/raw/UCI_Credit_Card.csv\"\n",
    "data_source_name = \"my_data_source\""
   ]
  },
  {
   "cell_type": "code",
   "execution_count": 22,
   "id": "161b7d66-b732-422a-9dad-2680bf077eaf",
   "metadata": {},
   "outputs": [],
   "source": [
    "data_source = context.data_sources.add_pandas_filesystem(\n",
    "    name=data_source_name, base_directory=source_folder\n",
    ")"
   ]
  },
  {
   "cell_type": "code",
   "execution_count": 23,
   "id": "8bc42a4a-076f-4364-8871-546556752e5f",
   "metadata": {},
   "outputs": [
    {
     "data": {
      "text/plain": [
       "PandasFilesystemDatasource(type='pandas_filesystem', name='my_data_source', id=UUID('501840b3-2c80-4802-8f5d-ab6d47589089'), assets=[], base_directory=WindowsPath('../data/raw/UCI_Credit_Card.csv'), data_context_root_directory=None)"
      ]
     },
     "execution_count": 23,
     "metadata": {},
     "output_type": "execute_result"
    }
   ],
   "source": [
    "data_source"
   ]
  },
  {
   "cell_type": "code",
   "execution_count": null,
   "id": "716967cf-69c5-400a-9c1f-b9b9a62ac736",
   "metadata": {},
   "outputs": [],
   "source": [
    "preset_expectation = gx.expectations.ExpectColumnMaxToBeBetween(\n",
    "    column=\"passenger_count\", min_value=1, max_value=6\n",
    ")"
   ]
  }
 ],
 "metadata": {
  "kernelspec": {
   "display_name": "Python 3 (ipykernel)",
   "language": "python",
   "name": "python3"
  },
  "language_info": {
   "codemirror_mode": {
    "name": "ipython",
    "version": 3
   },
   "file_extension": ".py",
   "mimetype": "text/x-python",
   "name": "python",
   "nbconvert_exporter": "python",
   "pygments_lexer": "ipython3",
   "version": "3.9.24"
  }
 },
 "nbformat": 4,
 "nbformat_minor": 5
}
