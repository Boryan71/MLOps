{
 "cells": [
  {
   "cell_type": "code",
   "execution_count": 1,
   "id": "8de4d803-ad17-4233-84d4-1afaecb82d26",
   "metadata": {},
   "outputs": [],
   "source": [
    "import pandas\n",
    "import great_expectations as gx\n",
    "from great_expectations import expectations as gxe"
   ]
  },
  {
   "cell_type": "code",
   "execution_count": 2,
   "id": "193dfbdf-7f6f-46a7-b6e5-6c302414b4b7",
   "metadata": {},
   "outputs": [],
   "source": [
    "# Создаем контекст\n",
    "context = gx.get_context()"
   ]
  },
  {
   "cell_type": "code",
   "execution_count": 3,
   "id": "8c2cabd3-254a-4ecd-ae5c-299829679509",
   "metadata": {},
   "outputs": [],
   "source": [
    "# Загружаем датасет\n",
    "df = pandas.read_csv(\"./../data/raw/UCI_Credit_Card.csv\")"
   ]
  },
  {
   "cell_type": "code",
   "execution_count": 4,
   "id": "c24d609a-8bdd-4eb4-a9b9-66124e3e0c32",
   "metadata": {},
   "outputs": [],
   "source": [
    "# Создаем датасурс на основе датасета\n",
    "data_source_name = \"df\"\n",
    "data_source = context.data_sources.add_pandas(name=data_source_name)"
   ]
  },
  {
   "cell_type": "code",
   "execution_count": 5,
   "id": "ba8c8307-53aa-4a85-9667-2aeb5101d148",
   "metadata": {},
   "outputs": [],
   "source": [
    "# Создаем дата_ассет для нашего датасурса\n",
    "data_asset_name = \"df_asset\"\n",
    "data_asset = data_source.add_dataframe_asset(name=data_asset_name)"
   ]
  },
  {
   "cell_type": "code",
   "execution_count": 6,
   "id": "caceadca-910f-4150-9006-f404e25cf4cb",
   "metadata": {},
   "outputs": [],
   "source": [
    "# Создаем батч для дата_ассета\n",
    "batch_definition_name = \"df_batch_definition\"\n",
    "batch_definition = data_asset.add_batch_definition_whole_dataframe(\n",
    "    batch_definition_name\n",
    ")"
   ]
  },
  {
   "cell_type": "code",
   "execution_count": 7,
   "id": "2afa4c8d-649b-48c1-b0e4-adbacaa9d243",
   "metadata": {},
   "outputs": [],
   "source": [
    "# Задаем параметры батча\n",
    "batch_parameters = {\"dataframe\": df}"
   ]
  },
  {
   "cell_type": "code",
   "execution_count": 8,
   "id": "b5dd728a-9381-4dc3-b5a0-440ba51a0ab1",
   "metadata": {},
   "outputs": [],
   "source": [
    "# Получаем датафрейм как батч\n",
    "batch = batch_definition.get_batch(batch_parameters=batch_parameters)"
   ]
  },
  {
   "cell_type": "code",
   "execution_count": 9,
   "id": "87e8ca31-602e-4ee4-be00-fb756ca0f032",
   "metadata": {},
   "outputs": [],
   "source": [
    "# Создаем сьют для проверок\n",
    "suite_name = \"df_expectation_suite\"\n",
    "suite = gx.ExpectationSuite(name=suite_name)\n",
    "suite = context.suites.add(suite)"
   ]
  },
  {
   "cell_type": "code",
   "execution_count": 10,
   "id": "417dd7c6-3ced-455b-b88c-8ccff46d7575",
   "metadata": {},
   "outputs": [],
   "source": [
    "# Создаем правила для проверки\n",
    "expectations = [\n",
    "    gxe.ExpectColumnToExist(column=\"LIMIT_BAL\"),\n",
    "    gxe.ExpectColumnValuesToNotBeNull(column=\"LIMIT_BAL\"),\n",
    "    gxe.ExpectColumnValuesToBeBetween(column=\"AGE\", max_value=100, min_value=18),\n",
    "    gxe.ExpectColumnDistinctValuesToBeInSet(column=\"default.payment.next.month\", value_set=[0,1])\n",
    "]"
   ]
  },
  {
   "cell_type": "code",
   "execution_count": 11,
   "id": "830bef48-a233-45bc-9130-32a272f02a58",
   "metadata": {},
   "outputs": [],
   "source": [
    "for exp in expectations:\n",
    "    suite.add_expectation(exp)"
   ]
  },
  {
   "cell_type": "code",
   "execution_count": 12,
   "id": "14019784-8cfb-4609-984f-79a44dc5876c",
   "metadata": {},
   "outputs": [],
   "source": [
    "# Определяем валидирующий объект\n",
    "definition_name = \"df_validation_definition\"\n",
    "validation_definition = gx.ValidationDefinition(\n",
    "    data=batch_definition, suite=suite, name=definition_name\n",
    ")"
   ]
  },
  {
   "cell_type": "code",
   "execution_count": 13,
   "id": "2d83401e-0a98-4188-9e3c-f0741cd725e4",
   "metadata": {},
   "outputs": [],
   "source": [
    "# Добавляем валидацию в контекст\n",
    "validation_definition = context.validation_definitions.add(validation_definition)"
   ]
  },
  {
   "cell_type": "code",
   "execution_count": 14,
   "id": "495d4e42-59ed-483e-8d66-0d6f72667189",
   "metadata": {},
   "outputs": [
    {
     "data": {
      "application/vnd.jupyter.widget-view+json": {
       "model_id": "8280e4ddf08e4d74886442852e7b0639",
       "version_major": 2,
       "version_minor": 0
      },
      "text/plain": [
       "Calculating Metrics:   0%|          | 0/16 [00:00<?, ?it/s]"
      ]
     },
     "metadata": {},
     "output_type": "display_data"
    }
   ],
   "source": [
    "# Производим валидацию\n",
    "validation_results = validation_definition.run(batch_parameters=batch_parameters)"
   ]
  },
  {
   "cell_type": "code",
   "execution_count": 23,
   "id": "faec9343-fe4f-4813-9673-4f9114df14d1",
   "metadata": {},
   "outputs": [
    {
     "ename": "ValueError",
     "evalue": "\nСтатус проверки: False\n\n{\n  \"success\": false,\n  \"results\": [\n    {\n      \"success\": true,\n      \"expectation_config\": {\n        \"type\": \"expect_column_to_exist\",\n        \"kwargs\": {\n          \"batch_id\": \"df-df_asset\",\n          \"column\": \"LIMIT_BAL\"\n        },\n        \"meta\": {},\n        \"id\": \"48a7b210-c5c9-4341-84fb-ba800d7d2ad2\"\n      },\n      \"result\": {},\n      \"meta\": {},\n      \"exception_info\": {\n        \"raised_exception\": false,\n        \"exception_traceback\": null,\n        \"exception_message\": null\n      }\n    },\n    {\n      \"success\": true,\n      \"expectation_config\": {\n        \"type\": \"expect_column_values_to_not_be_null\",\n        \"kwargs\": {\n          \"batch_id\": \"df-df_asset\",\n          \"column\": \"LIMIT_BAL\"\n        },\n        \"meta\": {},\n        \"id\": \"68904901-f9e8-48c1-9592-0522ce2edb5d\"\n      },\n      \"result\": {\n        \"element_count\": 30000,\n        \"unexpected_count\": 0,\n        \"unexpected_percent\": 0.0,\n        \"partial_unexpected_list\": [],\n        \"partial_unexpected_counts\": [],\n        \"partial_unexpected_index_list\": []\n      },\n      \"meta\": {},\n      \"exception_info\": {\n        \"raised_exception\": false,\n        \"exception_traceback\": null,\n        \"exception_message\": null\n      }\n    },\n    {\n      \"success\": false,\n      \"expectation_config\": {\n        \"type\": \"expect_column_values_to_be_between\",\n        \"kwargs\": {\n          \"batch_id\": \"df-df_asset\",\n          \"column\": \"AGE\",\n          \"min_value\": 18.0,\n          \"max_value\": 20.0\n        },\n        \"meta\": {},\n        \"id\": \"58f7f768-1986-46d8-80e9-37a2a6a1ba4a\"\n      },\n      \"result\": {\n        \"element_count\": 30000,\n        \"unexpected_count\": 30000,\n        \"unexpected_percent\": 100.0,\n        \"partial_unexpected_list\": [\n          24,\n          26,\n          34,\n          37,\n          57,\n          37,\n          29,\n          23,\n          28,\n          35,\n          34,\n          51,\n          41,\n          30,\n          29,\n          23,\n          24,\n          49,\n          49,\n          29\n        ],\n        \"missing_count\": 0,\n        \"missing_percent\": 0.0,\n        \"unexpected_percent_total\": 100.0,\n        \"unexpected_percent_nonmissing\": 100.0,\n        \"partial_unexpected_counts\": [\n          {\n            \"value\": 29,\n            \"count\": 3\n          },\n          {\n            \"value\": 23,\n            \"count\": 2\n          },\n          {\n            \"value\": 24,\n            \"count\": 2\n          },\n          {\n            \"value\": 34,\n            \"count\": 2\n          },\n          {\n            \"value\": 37,\n            \"count\": 2\n          },\n          {\n            \"value\": 49,\n            \"count\": 2\n          },\n          {\n            \"value\": 26,\n            \"count\": 1\n          },\n          {\n            \"value\": 28,\n            \"count\": 1\n          },\n          {\n            \"value\": 30,\n            \"count\": 1\n          },\n          {\n            \"value\": 35,\n            \"count\": 1\n          },\n          {\n            \"value\": 41,\n            \"count\": 1\n          },\n          {\n            \"value\": 51,\n            \"count\": 1\n          },\n          {\n            \"value\": 57,\n            \"count\": 1\n          }\n        ],\n        \"partial_unexpected_index_list\": [\n          0,\n          1,\n          2,\n          3,\n          4,\n          5,\n          6,\n          7,\n          8,\n          9,\n          10,\n          11,\n          12,\n          13,\n          14,\n          15,\n          16,\n          17,\n          18,\n          19\n        ]\n      },\n      \"meta\": {},\n      \"exception_info\": {\n        \"raised_exception\": false,\n        \"exception_traceback\": null,\n        \"exception_message\": null\n      }\n    },\n    {\n      \"success\": true,\n      \"expectation_config\": {\n        \"type\": \"expect_column_distinct_values_to_be_in_set\",\n        \"kwargs\": {\n          \"batch_id\": \"df-df_asset\",\n          \"column\": \"default.payment.next.month\",\n          \"value_set\": [\n            0,\n            1\n          ]\n        },\n        \"meta\": {},\n        \"id\": \"8a4c6f81-8d5c-4271-8025-a20ba1b232f1\"\n      },\n      \"result\": {\n        \"observed_value\": [\n          0,\n          1\n        ],\n        \"details\": {\n          \"value_counts\": [\n            {\n              \"value\": 0,\n              \"count\": 23364\n            },\n            {\n              \"value\": 1,\n              \"count\": 6636\n            }\n          ]\n        }\n      },\n      \"meta\": {},\n      \"exception_info\": {\n        \"raised_exception\": false,\n        \"exception_traceback\": null,\n        \"exception_message\": null\n      }\n    }\n  ],\n  \"suite_name\": \"df_expectation_suite\",\n  \"suite_parameters\": {},\n  \"statistics\": {\n    \"evaluated_expectations\": 4,\n    \"successful_expectations\": 3,\n    \"unsuccessful_expectations\": 1,\n    \"success_percent\": 75.0\n  },\n  \"meta\": {\n    \"great_expectations_version\": \"1.5.8\",\n    \"batch_spec\": {\n      \"batch_data\": \"PandasDataFrame\"\n    },\n    \"batch_markers\": {\n      \"ge_load_time\": \"20251030T202049.133364Z\",\n      \"pandas_data_fingerprint\": \"afe5c415a15c571fef10348ec8f30bb2\"\n    },\n    \"active_batch_definition\": {\n      \"datasource_name\": \"df\",\n      \"data_connector_name\": \"fluent\",\n      \"data_asset_name\": \"df_asset\",\n      \"batch_identifiers\": {\n        \"dataframe\": \"<DATAFRAME>\"\n      }\n    },\n    \"validation_id\": \"9924d179-9704-4034-b062-18040f8994e9\",\n    \"checkpoint_id\": null,\n    \"run_id\": {\n      \"run_name\": null,\n      \"run_time\": \"2025-10-30T23:20:49.194421+03:00\"\n    },\n    \"validation_time\": \"2025-10-30T20:20:49.194421+00:00\",\n    \"batch_parameters\": {\n      \"dataframe\": \"<DATAFRAME>\"\n    }\n  },\n  \"id\": null\n}\n",
     "output_type": "error",
     "traceback": [
      "\u001b[1;31m---------------------------------------------------------------------------\u001b[0m",
      "\u001b[1;31mValueError\u001b[0m                                Traceback (most recent call last)",
      "Cell \u001b[1;32mIn[23], line 4\u001b[0m\n\u001b[0;32m      2\u001b[0m     \u001b[38;5;28mprint\u001b[39m(\u001b[38;5;124m'\u001b[39m\u001b[38;5;124mВсе проверки пройдены\u001b[39m\u001b[38;5;124m'\u001b[39m)\n\u001b[0;32m      3\u001b[0m \u001b[38;5;28;01melse\u001b[39;00m:\n\u001b[1;32m----> 4\u001b[0m     \u001b[38;5;28;01mraise\u001b[39;00m \u001b[38;5;167;01mValueError\u001b[39;00m(\u001b[38;5;124mf\u001b[39m\u001b[38;5;124m'''\u001b[39m\n\u001b[0;32m      5\u001b[0m \u001b[38;5;124mСтатус проверки: \u001b[39m\u001b[38;5;132;01m{\u001b[39;00mvalidation_results\u001b[38;5;241m.\u001b[39msuccess\u001b[38;5;132;01m}\u001b[39;00m\u001b[38;5;130;01m\\n\u001b[39;00m\n\u001b[0;32m      6\u001b[0m \u001b[38;5;132;01m{\u001b[39;00mvalidation_results\u001b[38;5;132;01m}\u001b[39;00m\n\u001b[0;32m      7\u001b[0m \u001b[38;5;124m'''\u001b[39m)\n\u001b[0;32m      8\u001b[0m     \u001b[38;5;28mprint\u001b[39m(validation_results)\n",
      "\u001b[1;31mValueError\u001b[0m: \nСтатус проверки: False\n\n{\n  \"success\": false,\n  \"results\": [\n    {\n      \"success\": true,\n      \"expectation_config\": {\n        \"type\": \"expect_column_to_exist\",\n        \"kwargs\": {\n          \"batch_id\": \"df-df_asset\",\n          \"column\": \"LIMIT_BAL\"\n        },\n        \"meta\": {},\n        \"id\": \"48a7b210-c5c9-4341-84fb-ba800d7d2ad2\"\n      },\n      \"result\": {},\n      \"meta\": {},\n      \"exception_info\": {\n        \"raised_exception\": false,\n        \"exception_traceback\": null,\n        \"exception_message\": null\n      }\n    },\n    {\n      \"success\": true,\n      \"expectation_config\": {\n        \"type\": \"expect_column_values_to_not_be_null\",\n        \"kwargs\": {\n          \"batch_id\": \"df-df_asset\",\n          \"column\": \"LIMIT_BAL\"\n        },\n        \"meta\": {},\n        \"id\": \"68904901-f9e8-48c1-9592-0522ce2edb5d\"\n      },\n      \"result\": {\n        \"element_count\": 30000,\n        \"unexpected_count\": 0,\n        \"unexpected_percent\": 0.0,\n        \"partial_unexpected_list\": [],\n        \"partial_unexpected_counts\": [],\n        \"partial_unexpected_index_list\": []\n      },\n      \"meta\": {},\n      \"exception_info\": {\n        \"raised_exception\": false,\n        \"exception_traceback\": null,\n        \"exception_message\": null\n      }\n    },\n    {\n      \"success\": false,\n      \"expectation_config\": {\n        \"type\": \"expect_column_values_to_be_between\",\n        \"kwargs\": {\n          \"batch_id\": \"df-df_asset\",\n          \"column\": \"AGE\",\n          \"min_value\": 18.0,\n          \"max_value\": 20.0\n        },\n        \"meta\": {},\n        \"id\": \"58f7f768-1986-46d8-80e9-37a2a6a1ba4a\"\n      },\n      \"result\": {\n        \"element_count\": 30000,\n        \"unexpected_count\": 30000,\n        \"unexpected_percent\": 100.0,\n        \"partial_unexpected_list\": [\n          24,\n          26,\n          34,\n          37,\n          57,\n          37,\n          29,\n          23,\n          28,\n          35,\n          34,\n          51,\n          41,\n          30,\n          29,\n          23,\n          24,\n          49,\n          49,\n          29\n        ],\n        \"missing_count\": 0,\n        \"missing_percent\": 0.0,\n        \"unexpected_percent_total\": 100.0,\n        \"unexpected_percent_nonmissing\": 100.0,\n        \"partial_unexpected_counts\": [\n          {\n            \"value\": 29,\n            \"count\": 3\n          },\n          {\n            \"value\": 23,\n            \"count\": 2\n          },\n          {\n            \"value\": 24,\n            \"count\": 2\n          },\n          {\n            \"value\": 34,\n            \"count\": 2\n          },\n          {\n            \"value\": 37,\n            \"count\": 2\n          },\n          {\n            \"value\": 49,\n            \"count\": 2\n          },\n          {\n            \"value\": 26,\n            \"count\": 1\n          },\n          {\n            \"value\": 28,\n            \"count\": 1\n          },\n          {\n            \"value\": 30,\n            \"count\": 1\n          },\n          {\n            \"value\": 35,\n            \"count\": 1\n          },\n          {\n            \"value\": 41,\n            \"count\": 1\n          },\n          {\n            \"value\": 51,\n            \"count\": 1\n          },\n          {\n            \"value\": 57,\n            \"count\": 1\n          }\n        ],\n        \"partial_unexpected_index_list\": [\n          0,\n          1,\n          2,\n          3,\n          4,\n          5,\n          6,\n          7,\n          8,\n          9,\n          10,\n          11,\n          12,\n          13,\n          14,\n          15,\n          16,\n          17,\n          18,\n          19\n        ]\n      },\n      \"meta\": {},\n      \"exception_info\": {\n        \"raised_exception\": false,\n        \"exception_traceback\": null,\n        \"exception_message\": null\n      }\n    },\n    {\n      \"success\": true,\n      \"expectation_config\": {\n        \"type\": \"expect_column_distinct_values_to_be_in_set\",\n        \"kwargs\": {\n          \"batch_id\": \"df-df_asset\",\n          \"column\": \"default.payment.next.month\",\n          \"value_set\": [\n            0,\n            1\n          ]\n        },\n        \"meta\": {},\n        \"id\": \"8a4c6f81-8d5c-4271-8025-a20ba1b232f1\"\n      },\n      \"result\": {\n        \"observed_value\": [\n          0,\n          1\n        ],\n        \"details\": {\n          \"value_counts\": [\n            {\n              \"value\": 0,\n              \"count\": 23364\n            },\n            {\n              \"value\": 1,\n              \"count\": 6636\n            }\n          ]\n        }\n      },\n      \"meta\": {},\n      \"exception_info\": {\n        \"raised_exception\": false,\n        \"exception_traceback\": null,\n        \"exception_message\": null\n      }\n    }\n  ],\n  \"suite_name\": \"df_expectation_suite\",\n  \"suite_parameters\": {},\n  \"statistics\": {\n    \"evaluated_expectations\": 4,\n    \"successful_expectations\": 3,\n    \"unsuccessful_expectations\": 1,\n    \"success_percent\": 75.0\n  },\n  \"meta\": {\n    \"great_expectations_version\": \"1.5.8\",\n    \"batch_spec\": {\n      \"batch_data\": \"PandasDataFrame\"\n    },\n    \"batch_markers\": {\n      \"ge_load_time\": \"20251030T202049.133364Z\",\n      \"pandas_data_fingerprint\": \"afe5c415a15c571fef10348ec8f30bb2\"\n    },\n    \"active_batch_definition\": {\n      \"datasource_name\": \"df\",\n      \"data_connector_name\": \"fluent\",\n      \"data_asset_name\": \"df_asset\",\n      \"batch_identifiers\": {\n        \"dataframe\": \"<DATAFRAME>\"\n      }\n    },\n    \"validation_id\": \"9924d179-9704-4034-b062-18040f8994e9\",\n    \"checkpoint_id\": null,\n    \"run_id\": {\n      \"run_name\": null,\n      \"run_time\": \"2025-10-30T23:20:49.194421+03:00\"\n    },\n    \"validation_time\": \"2025-10-30T20:20:49.194421+00:00\",\n    \"batch_parameters\": {\n      \"dataframe\": \"<DATAFRAME>\"\n    }\n  },\n  \"id\": null\n}\n"
     ]
    }
   ],
   "source": [
    "if validation_results.success:\n",
    "    print('Все проверки пройдены')\n",
    "else:\n",
    "    raise ValueError(f'''\n",
    "Статус проверки: {validation_results.success}\\n\n",
    "{validation_results}\n",
    "''')"
   ]
  }
 ],
 "metadata": {
  "kernelspec": {
   "display_name": "Python 3 (ipykernel)",
   "language": "python",
   "name": "python3"
  },
  "language_info": {
   "codemirror_mode": {
    "name": "ipython",
    "version": 3
   },
   "file_extension": ".py",
   "mimetype": "text/x-python",
   "name": "python",
   "nbconvert_exporter": "python",
   "pygments_lexer": "ipython3",
   "version": "3.9.24"
  }
 },
 "nbformat": 4,
 "nbformat_minor": 5
}
