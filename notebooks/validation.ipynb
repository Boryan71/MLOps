{
 "cells": [
  {
   "cell_type": "code",
   "execution_count": 6,
   "id": "8de4d803-ad17-4233-84d4-1afaecb82d26",
   "metadata": {},
   "outputs": [],
   "source": [
    "import pandas\n",
    "import great_expectations as gx\n",
    "from great_expectations import expectations as gxe"
   ]
  },
  {
   "cell_type": "code",
   "execution_count": 20,
   "id": "193dfbdf-7f6f-46a7-b6e5-6c302414b4b7",
   "metadata": {},
   "outputs": [],
   "source": [
    "# Создаем контекст\n",
    "context = gx.get_context()"
   ]
  },
  {
   "cell_type": "code",
   "execution_count": 24,
   "id": "8c2cabd3-254a-4ecd-ae5c-299829679509",
   "metadata": {},
   "outputs": [],
   "source": [
    "# Загружаем датасет\n",
    "df = pandas.read_csv(\"./../data/raw/UCI_Credit_Card.csv\")"
   ]
  },
  {
   "cell_type": "code",
   "execution_count": 25,
   "id": "c24d609a-8bdd-4eb4-a9b9-66124e3e0c32",
   "metadata": {},
   "outputs": [],
   "source": [
    "# Создаем датасурс на основе датасета\n",
    "data_source_name = \"df\"\n",
    "data_source = context.data_sources.add_pandas(name=data_source_name)"
   ]
  },
  {
   "cell_type": "code",
   "execution_count": 27,
   "id": "ba8c8307-53aa-4a85-9667-2aeb5101d148",
   "metadata": {},
   "outputs": [],
   "source": [
    "# Создаем дата_ассет для нашего датасурса\n",
    "data_asset_name = \"df_asset\"\n",
    "data_asset = data_source.add_dataframe_asset(name=data_asset_name)"
   ]
  },
  {
   "cell_type": "code",
   "execution_count": 30,
   "id": "caceadca-910f-4150-9006-f404e25cf4cb",
   "metadata": {},
   "outputs": [],
   "source": [
    "# Создаем батч для дата_ассета\n",
    "batch_definition_name = \"df_batch_definition\"\n",
    "batch_definition = data_asset.add_batch_definition_whole_dataframe(\n",
    "    batch_definition_name\n",
    ")"
   ]
  },
  {
   "cell_type": "code",
   "execution_count": 32,
   "id": "2afa4c8d-649b-48c1-b0e4-adbacaa9d243",
   "metadata": {},
   "outputs": [],
   "source": [
    "# Задаем параметры батча\n",
    "batch_parameters = {\"dataframe\": df}"
   ]
  },
  {
   "cell_type": "code",
   "execution_count": null,
   "id": "b5dd728a-9381-4dc3-b5a0-440ba51a0ab1",
   "metadata": {},
   "outputs": [],
   "source": [
    "# Получаем датафрейм как батч\n",
    "batch = batch_definition.get_batch(batch_parameters=batch_parameters)"
   ]
  },
  {
   "cell_type": "code",
   "execution_count": 39,
   "id": "87e8ca31-602e-4ee4-be00-fb756ca0f032",
   "metadata": {},
   "outputs": [],
   "source": [
    "# Создаем сьют для проверок\n",
    "suite_name = \"df_expectation_suite\"\n",
    "suite = gx.ExpectationSuite(name=suite_name)\n",
    "suite = context.suites.add(suite)"
   ]
  },
  {
   "cell_type": "code",
   "execution_count": 57,
   "id": "417dd7c6-3ced-455b-b88c-8ccff46d7575",
   "metadata": {},
   "outputs": [],
   "source": [
    "# Создаем правила для проверки\n",
    "expectations = [\n",
    "    gxe.ExpectColumnToExist(column=\"LIMIT_BAL\"),\n",
    "    gxe.ExpectColumnValuesToNotBeNull(column=\"LIMIT_BAL\"),\n",
    "    gxe.ExpectColumnValuesToBeBetween(column=\"AGE\", max_value=100, min_value=18),\n",
    "    gxe.ExpectColumnDistinctValuesToBeInSet(column=\"default.payment.next.month\", value_set=[0,1])\n",
    "]"
   ]
  },
  {
   "cell_type": "code",
   "execution_count": 58,
   "id": "830bef48-a233-45bc-9130-32a272f02a58",
   "metadata": {},
   "outputs": [],
   "source": [
    "for exp in expectations:\n",
    "    suite.add_expectation(exp)"
   ]
  },
  {
   "cell_type": "code",
   "execution_count": 63,
   "id": "14019784-8cfb-4609-984f-79a44dc5876c",
   "metadata": {},
   "outputs": [],
   "source": [
    "# Определяем валидирующий объект\n",
    "definition_name = \"df_validation_definition\"\n",
    "validation_definition = gx.ValidationDefinition(\n",
    "    data=batch_definition, suite=suite, name=definition_name\n",
    ")"
   ]
  },
  {
   "cell_type": "code",
   "execution_count": 66,
   "id": "2d83401e-0a98-4188-9e3c-f0741cd725e4",
   "metadata": {},
   "outputs": [],
   "source": [
    "# Добавляем валидацию в контекст\n",
    "validation_definition = context.validation_definitions.add(validation_definition)"
   ]
  },
  {
   "cell_type": "code",
   "execution_count": 70,
   "id": "495d4e42-59ed-483e-8d66-0d6f72667189",
   "metadata": {},
   "outputs": [
    {
     "data": {
      "application/vnd.jupyter.widget-view+json": {
       "model_id": "35596c5055f34268b0340d6d1d15d8b2",
       "version_major": 2,
       "version_minor": 0
      },
      "text/plain": [
       "Calculating Metrics:   0%|          | 0/16 [00:00<?, ?it/s]"
      ]
     },
     "metadata": {},
     "output_type": "display_data"
    }
   ],
   "source": [
    "# Производим валидацию\n",
    "validation_results = validation_definition.run(batch_parameters=batch_parameters)"
   ]
  },
  {
   "cell_type": "code",
   "execution_count": 84,
   "id": "faec9343-fe4f-4813-9673-4f9114df14d1",
   "metadata": {},
   "outputs": [
    {
     "name": "stdout",
     "output_type": "stream",
     "text": [
      "Все проверки пройдены\n"
     ]
    }
   ],
   "source": [
    "if validation_results.success:\n",
    "    print('Все проверки пройдены')\n",
    "else: print(validation_results)"
   ]
  }
 ],
 "metadata": {
  "kernelspec": {
   "display_name": "Python 3 (ipykernel)",
   "language": "python",
   "name": "python3"
  },
  "language_info": {
   "codemirror_mode": {
    "name": "ipython",
    "version": 3
   },
   "file_extension": ".py",
   "mimetype": "text/x-python",
   "name": "python",
   "nbconvert_exporter": "python",
   "pygments_lexer": "ipython3",
   "version": "3.9.24"
  }
 },
 "nbformat": 4,
 "nbformat_minor": 5
}
