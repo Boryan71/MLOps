{
 "cells": [
  {
   "cell_type": "code",
   "execution_count": 27,
   "id": "f86eb67f-da78-41f3-9d67-282b21575e98",
   "metadata": {},
   "outputs": [],
   "source": [
    "import pandas as pd\n",
    "from pathlib import Path\n",
    "from sklearn.preprocessing import MinMaxScaler\n",
    "import os\n",
    "from nbconvert import ScriptExporter"
   ]
  },
  {
   "cell_type": "code",
   "execution_count": 23,
   "id": "f5e918c9-90f5-4bec-bec6-d79bb1f1d8df",
   "metadata": {},
   "outputs": [],
   "source": [
    "# raw_path = './../data/raw/'                   # Ноутбук\n",
    "raw_path = './../../data/raw/'                # Скрипт\n",
    "# processed_path = './../data/processed/'       # Ноутбук\n",
    "processed_path = './../../data/processed/'    # Скрипт"
   ]
  },
  {
   "cell_type": "code",
   "execution_count": 24,
   "id": "a07bab73-19be-4f39-920c-5e2e9a08c639",
   "metadata": {},
   "outputs": [],
   "source": [
    "# Создаем функцию для загрузки датасета\n",
    "def load_data(data_path=raw_path+'UCI_Credit_Card.csv'):\n",
    "    \"\"\"\n",
    "    Функция загрузки данных из csv файла.\n",
    "    \"\"\"\n",
    "    df = pd.read_csv(data_path)\n",
    "    return df"
   ]
  },
  {
   "cell_type": "code",
   "execution_count": 25,
   "id": "3b3b882e-041d-40f7-8d08-06b848288e4c",
   "metadata": {},
   "outputs": [
    {
     "name": "stdout",
     "output_type": "stream",
     "text": [
      "Размер таблицы: (30000, 25)\n",
      "Первые строки:\n",
      "   ID  LIMIT_BAL  SEX  EDUCATION  MARRIAGE  AGE  PAY_0  PAY_2  PAY_3  PAY_4  \\\n",
      "0   1    20000.0    2          2         1   24      2      2     -1     -1   \n",
      "1   2   120000.0    2          2         2   26     -1      2      0      0   \n",
      "2   3    90000.0    2          2         2   34      0      0      0      0   \n",
      "3   4    50000.0    2          2         1   37      0      0      0      0   \n",
      "4   5    50000.0    1          2         1   57     -1      0     -1      0   \n",
      "\n",
      "   ...  BILL_AMT4  BILL_AMT5  BILL_AMT6  PAY_AMT1  PAY_AMT2  PAY_AMT3  \\\n",
      "0  ...        0.0        0.0        0.0       0.0     689.0       0.0   \n",
      "1  ...     3272.0     3455.0     3261.0       0.0    1000.0    1000.0   \n",
      "2  ...    14331.0    14948.0    15549.0    1518.0    1500.0    1000.0   \n",
      "3  ...    28314.0    28959.0    29547.0    2000.0    2019.0    1200.0   \n",
      "4  ...    20940.0    19146.0    19131.0    2000.0   36681.0   10000.0   \n",
      "\n",
      "   PAY_AMT4  PAY_AMT5  PAY_AMT6  default.payment.next.month  \n",
      "0       0.0       0.0       0.0                           1  \n",
      "1    1000.0       0.0    2000.0                           1  \n",
      "2    1000.0    1000.0    5000.0                           0  \n",
      "3    1100.0    1069.0    1000.0                           0  \n",
      "4    9000.0     689.0     679.0                           0  \n",
      "\n",
      "[5 rows x 25 columns]\n",
      "Типы данных:\n",
      "ID                              int64\n",
      "LIMIT_BAL                     float64\n",
      "SEX                             int64\n",
      "EDUCATION                       int64\n",
      "MARRIAGE                        int64\n",
      "AGE                             int64\n",
      "PAY_0                           int64\n",
      "PAY_2                           int64\n",
      "PAY_3                           int64\n",
      "PAY_4                           int64\n",
      "PAY_5                           int64\n",
      "PAY_6                           int64\n",
      "BILL_AMT1                     float64\n",
      "BILL_AMT2                     float64\n",
      "BILL_AMT3                     float64\n",
      "BILL_AMT4                     float64\n",
      "BILL_AMT5                     float64\n",
      "BILL_AMT6                     float64\n",
      "PAY_AMT1                      float64\n",
      "PAY_AMT2                      float64\n",
      "PAY_AMT3                      float64\n",
      "PAY_AMT4                      float64\n",
      "PAY_AMT5                      float64\n",
      "PAY_AMT6                      float64\n",
      "default.payment.next.month      int64\n",
      "dtype: object\n"
     ]
    }
   ],
   "source": [
    "# Посмотрим на наш датасет\n",
    "if __name__ == \"__main__\":\n",
    "    df = load_data()\n",
    "    print(f'Размер таблицы: {df.shape}')\n",
    "    print('Первые строки:')\n",
    "    print(df.head())\n",
    "    print('Типы данных:')\n",
    "    print(df.dtypes)"
   ]
  },
  {
   "cell_type": "code",
   "execution_count": 15,
   "id": "9a498fc4-5b73-406d-b211-f0513d8874db",
   "metadata": {},
   "outputs": [],
   "source": [
    "# Создадим функцию, которая будет производить разведывательный анализ датасета\n",
    "def explore_data(df):\n",
    "    \"\"\"\n",
    "    Функция для анализа данных\n",
    "    \"\"\"\n",
    "    # Находим количсество пропусков в данных\n",
    "    print('Количество пропусков:')\n",
    "    print(df.isna().sum())\n",
    "\n",
    "    # Оцениваем процентное распределение целевой переменной\n",
    "    target_distribution = df['default.payment.next.month'].value_counts(normalize=True)*100\n",
    "    print('\\nРаспределение целевой переменной (%):')\n",
    "    print(target_distribution)\n",
    "\n",
    "    # Выводим статистику по числовым признакам\n",
    "    numeric_columns = df.select_dtypes(include=['float', 'int']).columns\n",
    "    print('\\nСтатистика по числовым признакам:')\n",
    "    print(df[numeric_columns].describe())\n",
    "\n",
    "    # Выведем значения категориальных признаков\n",
    "    categorical_columns = df.select_dtypes(exclude=['float', 'int']).columns\n",
    "    if len(categorical_columns) > 0:\n",
    "        print('\\nКатегоричные признаки:')\n",
    "        for col in categorical_columns:\n",
    "            print(f'{col}: {df[col].unique()}')"
   ]
  },
  {
   "cell_type": "code",
   "execution_count": 16,
   "id": "d37a1d22-9b39-4fe1-9242-b1e1e25b4ec9",
   "metadata": {},
   "outputs": [
    {
     "name": "stdout",
     "output_type": "stream",
     "text": [
      "Количество пропусков:\n",
      "ID                            0\n",
      "LIMIT_BAL                     0\n",
      "SEX                           0\n",
      "EDUCATION                     0\n",
      "MARRIAGE                      0\n",
      "AGE                           0\n",
      "PAY_0                         0\n",
      "PAY_2                         0\n",
      "PAY_3                         0\n",
      "PAY_4                         0\n",
      "PAY_5                         0\n",
      "PAY_6                         0\n",
      "BILL_AMT1                     0\n",
      "BILL_AMT2                     0\n",
      "BILL_AMT3                     0\n",
      "BILL_AMT4                     0\n",
      "BILL_AMT5                     0\n",
      "BILL_AMT6                     0\n",
      "PAY_AMT1                      0\n",
      "PAY_AMT2                      0\n",
      "PAY_AMT3                      0\n",
      "PAY_AMT4                      0\n",
      "PAY_AMT5                      0\n",
      "PAY_AMT6                      0\n",
      "default.payment.next.month    0\n",
      "dtype: int64\n",
      "\n",
      "Распределение целевой переменной (%):\n",
      "0    77.88\n",
      "1    22.12\n",
      "Name: default.payment.next.month, dtype: float64\n",
      "\n",
      "Статистика по числовым признакам:\n",
      "            LIMIT_BAL      BILL_AMT1      BILL_AMT2     BILL_AMT3  \\\n",
      "count    30000.000000   30000.000000   30000.000000  3.000000e+04   \n",
      "mean    167484.322667   51223.330900   49179.075167  4.701315e+04   \n",
      "std     129747.661567   73635.860576   71173.768783  6.934939e+04   \n",
      "min      10000.000000 -165580.000000  -69777.000000 -1.572640e+05   \n",
      "25%      50000.000000    3558.750000    2984.750000  2.666250e+03   \n",
      "50%     140000.000000   22381.500000   21200.000000  2.008850e+04   \n",
      "75%     240000.000000   67091.000000   64006.250000  6.016475e+04   \n",
      "max    1000000.000000  964511.000000  983931.000000  1.664089e+06   \n",
      "\n",
      "           BILL_AMT4      BILL_AMT5      BILL_AMT6       PAY_AMT1  \\\n",
      "count   30000.000000   30000.000000   30000.000000   30000.000000   \n",
      "mean    43262.948967   40311.400967   38871.760400    5663.580500   \n",
      "std     64332.856134   60797.155770   59554.107537   16563.280354   \n",
      "min   -170000.000000  -81334.000000 -339603.000000       0.000000   \n",
      "25%      2326.750000    1763.000000    1256.000000    1000.000000   \n",
      "50%     19052.000000   18104.500000   17071.000000    2100.000000   \n",
      "75%     54506.000000   50190.500000   49198.250000    5006.000000   \n",
      "max    891586.000000  927171.000000  961664.000000  873552.000000   \n",
      "\n",
      "           PAY_AMT2      PAY_AMT3       PAY_AMT4       PAY_AMT5       PAY_AMT6  \n",
      "count  3.000000e+04   30000.00000   30000.000000   30000.000000   30000.000000  \n",
      "mean   5.921163e+03    5225.68150    4826.076867    4799.387633    5215.502567  \n",
      "std    2.304087e+04   17606.96147   15666.159744   15278.305679   17777.465775  \n",
      "min    0.000000e+00       0.00000       0.000000       0.000000       0.000000  \n",
      "25%    8.330000e+02     390.00000     296.000000     252.500000     117.750000  \n",
      "50%    2.009000e+03    1800.00000    1500.000000    1500.000000    1500.000000  \n",
      "75%    5.000000e+03    4505.00000    4013.250000    4031.500000    4000.000000  \n",
      "max    1.684259e+06  896040.00000  621000.000000  426529.000000  528666.000000  \n",
      "\n",
      "Категоричные признаки:\n",
      "ID: [    1     2     3 ... 29998 29999 30000]\n",
      "SEX: [2 1]\n",
      "EDUCATION: [2 1 3 5 4 6 0]\n",
      "MARRIAGE: [1 2 3 0]\n",
      "AGE: [24 26 34 37 57 29 23 28 35 51 41 30 49 39 40 27 47 33 32 54 58 22 25 31\n",
      " 46 42 43 45 56 44 53 38 63 36 52 48 55 60 50 75 61 73 59 21 67 66 62 70\n",
      " 72 64 65 71 69 68 79 74]\n",
      "PAY_0: [ 2 -1  0 -2  1  3  4  8  7  5  6]\n",
      "PAY_2: [ 2  0 -1 -2  3  5  7  4  1  6  8]\n",
      "PAY_3: [-1  0  2 -2  3  4  6  7  1  5  8]\n",
      "PAY_4: [-1  0 -2  2  3  4  5  7  6  1  8]\n",
      "PAY_5: [-2  0 -1  2  3  5  4  7  8  6]\n",
      "PAY_6: [-2  2  0 -1  3  6  4  7  8  5]\n",
      "default.payment.next.month: [1 0]\n"
     ]
    }
   ],
   "source": [
    "explore_data(df)"
   ]
  },
  {
   "cell_type": "code",
   "execution_count": 17,
   "id": "57163c39-082f-428f-bc72-eddcf9b5c26f",
   "metadata": {},
   "outputs": [],
   "source": [
    "# Создадим функцию, которая будет предобрабатывать данные\n",
    "def preprocess_data(df):\n",
    "    \"\"\"\n",
    "    Предварительная обработка данных\n",
    "    \"\"\"\n",
    "    # Удаляем столбец ID\n",
    "    df.drop(columns=[\"ID\"], inplace=True)\n",
    "\n",
    "    # Производим биннинг возраста\n",
    "    bins = [20, 30, 40, 50, float('inf')]\n",
    "    labels = ['Молодые', 'Средний возраст', 'Взрослые', 'Старшие']\n",
    "    df['AGE_GROUP'] = pd.cut(df['AGE'], bins=bins, labels=labels)\n",
    "\n",
    "    # Выполняем OHE-обработку категориальных признаков\n",
    "    cat_cols = ['SEX', 'MARRIAGE', 'EDUCATION']\n",
    "    df_encoded = pd.get_dummies(df, columns=cat_cols, drop_first=True)\n",
    "\n",
    "    # Нормализуем числовые признаки\n",
    "    scaler = MinMaxScaler()\n",
    "    num_cols = ['LIMIT_BAL'] + [f'BILL_AMT{i}' for i in range(1, 7)] + [f'PAY_AMT{i}' for i in range(1, 7)]\n",
    "    df_scaled = scaler.fit_transform(df_encoded[num_cols])\n",
    "    df_encoded[num_cols] = df_scaled\n",
    "\n",
    "    return df_encoded"
   ]
  },
  {
   "cell_type": "code",
   "execution_count": 26,
   "id": "7e920bc9-911e-4832-a9aa-3967916a68bb",
   "metadata": {},
   "outputs": [
    {
     "name": "stdout",
     "output_type": "stream",
     "text": [
      "\n",
      "Данные успешно сохранены в ..\\data\\processed\\preprocessed_data.csv.\n"
     ]
    }
   ],
   "source": [
    "# Обрабатываем данные и сохраняем датасет\n",
    "if __name__ == \"__main__\":\n",
    "    df_processed = preprocess_data(df)\n",
    "    output_path = Path(processed_path+'preprocessed_data.csv')\n",
    "    df_processed.to_csv(output_path, index=False)\n",
    "    print(f'\\nДанные успешно сохранены в {output_path}.')"
   ]
  },
  {
   "cell_type": "code",
   "execution_count": 50,
   "id": "15001db7-dff9-4bb3-9a2e-3b6812c0ba39",
   "metadata": {},
   "outputs": [
    {
     "name": "stdout",
     "output_type": "stream",
     "text": [
      "Скрипт сохранен\n"
     ]
    }
   ],
   "source": [
    "# Сохранение ноутбука, как скрипт\n",
    "# notebook_name = 'import_and_eda.ipynb'\n",
    "# output_folder = './../src/data/'\n",
    "\n",
    "# exporter = ScriptExporter()\n",
    "# script, resources = exporter.from_filename(notebook_name)\n",
    "# script = script[:-430]\n",
    "\n",
    "# os.makedirs(output_folder, exist_ok=True)\n",
    "# with open(os.path.join(output_folder, notebook_name.replace('import_and_eda.ipynb', 'make-dataset.py')), 'w') as f:\n",
    "#     f.write(script)\n",
    "#     print('Скрипт сохранен')"
   ]
  }
 ],
 "metadata": {
  "kernelspec": {
   "display_name": "Python 3 (ipykernel)",
   "language": "python",
   "name": "python3"
  },
  "language_info": {
   "codemirror_mode": {
    "name": "ipython",
    "version": 3
   },
   "file_extension": ".py",
   "mimetype": "text/x-python",
   "name": "python",
   "nbconvert_exporter": "python",
   "pygments_lexer": "ipython3",
   "version": "3.9.24"
  }
 },
 "nbformat": 4,
 "nbformat_minor": 5
}
